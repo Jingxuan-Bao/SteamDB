{
  "nbformat": 4,
  "nbformat_minor": 0,
  "metadata": {
    "colab": {
      "provenance": []
    },
    "kernelspec": {
      "name": "python3",
      "display_name": "Python 3"
    },
    "language_info": {
      "name": "python"
    }
  },
  "cells": [
    {
      "cell_type": "code",
      "execution_count": null,
      "metadata": {
        "colab": {
          "base_uri": "https://localhost:8080/"
        },
        "id": "L03e7gZJNkSG",
        "outputId": "bf15796b-a050-44be-8b05-7220b7c68257"
      },
      "outputs": [
        {
          "output_type": "stream",
          "name": "stdout",
          "text": [
            "hello\n"
          ]
        }
      ],
      "source": [
        "print('hello')"
      ]
    },
    {
      "cell_type": "code",
      "source": [
        "import pandas as pd"
      ],
      "metadata": {
        "id": "GpqQ52fsNxmx"
      },
      "execution_count": null,
      "outputs": []
    },
    {
      "cell_type": "code",
      "source": [
        "url = 'https://github.com/qihang-dai/SteamDB/blob/master/dataset/steam_description_data.csv?raw=true'\n",
        "df = pd.read_csv(url, index_col = 0)\n",
        "print(df.head(5))"
      ],
      "metadata": {
        "colab": {
          "base_uri": "https://localhost:8080/"
        },
        "id": "yKXBrAYINxrr",
        "outputId": "4c500f94-fbda-4d2e-e36f-7846b82bc044"
      },
      "execution_count": null,
      "outputs": [
        {
          "output_type": "stream",
          "name": "stdout",
          "text": [
            "                                          detailed_description  \\\n",
            "steam_appid                                                      \n",
            "10           Play the world's number 1 online action game. ...   \n",
            "20           One of the most popular online action games of...   \n",
            "30           Enlist in an intense brand of Axis vs. Allied ...   \n",
            "40           Enjoy fast-paced multiplayer gaming with Death...   \n",
            "50           Return to the Black Mesa Research Facility as ...   \n",
            "\n",
            "                                                about_the_game  \\\n",
            "steam_appid                                                      \n",
            "10           Play the world's number 1 online action game. ...   \n",
            "20           One of the most popular online action games of...   \n",
            "30           Enlist in an intense brand of Axis vs. Allied ...   \n",
            "40           Enjoy fast-paced multiplayer gaming with Death...   \n",
            "50           Return to the Black Mesa Research Facility as ...   \n",
            "\n",
            "                                             short_description  \n",
            "steam_appid                                                     \n",
            "10           Play the world's number 1 online action game. ...  \n",
            "20           One of the most popular online action games of...  \n",
            "30           Enlist in an intense brand of Axis vs. Allied ...  \n",
            "40           Enjoy fast-paced multiplayer gaming with Death...  \n",
            "50           Return to the Black Mesa Research Facility as ...  \n"
          ]
        }
      ]
    },
    {
      "cell_type": "code",
      "source": [],
      "metadata": {
        "id": "CJxv34iVS9fa"
      },
      "execution_count": null,
      "outputs": []
    },
    {
      "cell_type": "markdown",
      "source": [
        "所有数据直接从kaggle上面读取"
      ],
      "metadata": {
        "id": "5uEKPqvgWvQc"
      }
    },
    {
      "cell_type": "markdown",
      "source": [
        "首先有一个Game Table （app_id, name)由steam.cvs文件得到，简单数据清洗，有空白数据则删除"
      ],
      "metadata": {
        "id": "u7myPWhzUuXc"
      }
    },
    {
      "cell_type": "markdown",
      "source": [
        "其次有一个Descirption Table (app_id,short_description, realease_dt, language, platform, developer) 把shrot_description merge 进steam.csv"
      ],
      "metadata": {
        "id": "X4NhdmdWUug_"
      }
    },
    {
      "cell_type": "markdown",
      "source": [
        "还有一个Review Table(review_id, game_id, review, time, recommend, author_id, language)\n",
        "数据来自review dataset from kaggle\n"
      ],
      "metadata": {
        "id": "QcpZQIxkUunc"
      }
    },
    {
      "cell_type": "markdown",
      "source": [],
      "metadata": {
        "id": "kD9igHFdX5qW"
      }
    },
    {
      "cell_type": "markdown",
      "source": [],
      "metadata": {
        "id": "8BTVR5xFXko1"
      }
    }
  ]
}